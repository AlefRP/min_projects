{
  "nbformat": 4,
  "nbformat_minor": 0,
  "metadata": {
    "colab": {
      "provenance": [],
      "authorship_tag": "ABX9TyNSscfALUyv/sU5LRHort8E",
      "include_colab_link": true
    },
    "kernelspec": {
      "name": "python3",
      "display_name": "Python 3"
    },
    "language_info": {
      "name": "python"
    }
  },
  "cells": [
    {
      "cell_type": "markdown",
      "metadata": {
        "id": "view-in-github",
        "colab_type": "text"
      },
      "source": [
        "<a href=\"https://colab.research.google.com/github/AlefRP/min_projects/blob/main/engenharia_dados_python.ipynb\" target=\"_parent\"><img src=\"https://colab.research.google.com/assets/colab-badge.svg\" alt=\"Open In Colab\"/></a>"
      ]
    },
    {
      "cell_type": "code",
      "execution_count": 1,
      "metadata": {
        "colab": {
          "base_uri": "https://localhost:8080/",
          "height": 35
        },
        "id": "m-Zi_4ckyUcH",
        "outputId": "f4206504-d0d2-4cc7-df48-86865e39e6be"
      },
      "outputs": [
        {
          "output_type": "execute_result",
          "data": {
            "text/plain": [
              "\"'biscoitos' os melhores do mundo\""
            ],
            "application/vnd.google.colaboratory.intrinsic+json": {
              "type": "string"
            }
          },
          "metadata": {},
          "execution_count": 1
        }
      ],
      "source": [
        "# Vamos fazer receita de biscoito para o almoço de domingo\n",
        "receita = \"'biscoitos' os melhores do mundo\" # Essa é a receita do dia\n",
        "receita"
      ]
    },
    {
      "cell_type": "code",
      "source": [
        "geladeira = 'ingredientes'\n",
        "geladeira"
      ],
      "metadata": {
        "colab": {
          "base_uri": "https://localhost:8080/",
          "height": 35
        },
        "id": "a5kVU4RDyogE",
        "outputId": "475ff15a-fcb3-4a84-9663-316bcbfa3ff9"
      },
      "execution_count": null,
      "outputs": [
        {
          "output_type": "execute_result",
          "data": {
            "text/plain": [
              "'ingredientes'"
            ],
            "application/vnd.google.colaboratory.intrinsic+json": {
              "type": "string"
            }
          },
          "metadata": {},
          "execution_count": 4
        }
      ]
    },
    {
      "cell_type": "code",
      "source": [
        "geladeira = None\n",
        "geladeira"
      ],
      "metadata": {
        "id": "a5hUg6PIzy2T"
      },
      "execution_count": null,
      "outputs": []
    },
    {
      "cell_type": "markdown",
      "source": [
        "# Variáveis\n",
        "\n",
        "* Nomes de variáveis devem conter letras ou numeros e underline\n",
        "* Não pode começar com digitos\n",
        "* Evite caractéres acentuados e outros"
      ],
      "metadata": {
        "id": "5fbtbCTO0muu"
      }
    },
    {
      "cell_type": "code",
      "source": [
        "_geladeira = 0\n",
        "_geladeira"
      ],
      "metadata": {
        "colab": {
          "base_uri": "https://localhost:8080/"
        },
        "id": "7lg_yza004a3",
        "outputId": "0bb0921b-368f-4af4-e202-2c8e86569670"
      },
      "execution_count": null,
      "outputs": [
        {
          "output_type": "execute_result",
          "data": {
            "text/plain": [
              "0"
            ]
          },
          "metadata": {},
          "execution_count": 9
        }
      ]
    },
    {
      "cell_type": "code",
      "source": [
        "# Começar lista de ingredientes para fazer os biscoitos\n",
        "_geladeira = None\n",
        "\n",
        "# Farinha de Trigo\n",
        "ovos = 1\n",
        "recheio = False\n",
        "fermento = 1.5 * 3\n",
        "agua = 2\n",
        "acucar = 100.0\n",
        "manteiga = 100.0\n",
        "farinha = 300.0"
      ],
      "metadata": {
        "id": "JoHXnBRZcUoe"
      },
      "execution_count": 3,
      "outputs": []
    },
    {
      "cell_type": "markdown",
      "source": [
        "# Tipos de dados\n",
        "\n",
        "* texto -> string(str)\n",
        "* inteiro -> integer(int)\n",
        "* decimal -> float(float)\n",
        "* booleano -> bool\n",
        "* Nulo -> None"
      ],
      "metadata": {
        "id": "I3CaA2pVd9p1"
      }
    },
    {
      "cell_type": "code",
      "source": [
        "type(ovos)"
      ],
      "metadata": {
        "colab": {
          "base_uri": "https://localhost:8080/"
        },
        "id": "Ktuj8pacecY1",
        "outputId": "b9c043df-6ba9-4a4b-9b4d-8a8333f23131"
      },
      "execution_count": 5,
      "outputs": [
        {
          "output_type": "execute_result",
          "data": {
            "text/plain": [
              "int"
            ]
          },
          "metadata": {},
          "execution_count": 5
        }
      ]
    },
    {
      "cell_type": "markdown",
      "source": [
        "# Operadores\n",
        "\n",
        "* Aritméticos\n",
        "* Atribuição\n",
        "* Lógicos\n",
        "* Identidade\n",
        "* Petercimento\n",
        "* ~Bitwise~"
      ],
      "metadata": {
        "id": "qiB0tC-5hNda"
      }
    },
    {
      "cell_type": "markdown",
      "source": [
        "## Aritmeticos"
      ],
      "metadata": {
        "id": "OvHs7PPJigF8"
      }
    },
    {
      "cell_type": "code",
      "source": [
        "2 + 3"
      ],
      "metadata": {
        "colab": {
          "base_uri": "https://localhost:8080/"
        },
        "id": "n4PCJavihQpW",
        "outputId": "c39f6bac-114a-4645-c49c-4632f5b49d18"
      },
      "execution_count": 7,
      "outputs": [
        {
          "output_type": "execute_result",
          "data": {
            "text/plain": [
              "5"
            ]
          },
          "metadata": {},
          "execution_count": 7
        }
      ]
    },
    {
      "cell_type": "code",
      "source": [
        "3 - 2"
      ],
      "metadata": {
        "colab": {
          "base_uri": "https://localhost:8080/"
        },
        "id": "P5_pkMImiFTR",
        "outputId": "df3c9973-8969-4a9f-9477-36839ca8307b"
      },
      "execution_count": 8,
      "outputs": [
        {
          "output_type": "execute_result",
          "data": {
            "text/plain": [
              "1"
            ]
          },
          "metadata": {},
          "execution_count": 8
        }
      ]
    },
    {
      "cell_type": "code",
      "source": [
        "acucar * 2"
      ],
      "metadata": {
        "colab": {
          "base_uri": "https://localhost:8080/"
        },
        "id": "B5IRm7v-iIaR",
        "outputId": "af025777-8f98-400b-ad60-609fca3a6cf4"
      },
      "execution_count": 9,
      "outputs": [
        {
          "output_type": "execute_result",
          "data": {
            "text/plain": [
              "200.0"
            ]
          },
          "metadata": {},
          "execution_count": 9
        }
      ]
    },
    {
      "cell_type": "code",
      "source": [
        "50 // 3 # Divisão inteira"
      ],
      "metadata": {
        "colab": {
          "base_uri": "https://localhost:8080/"
        },
        "id": "788fQ1YxiNkj",
        "outputId": "08eab377-3493-4914-83b7-11244d57d824"
      },
      "execution_count": 10,
      "outputs": [
        {
          "output_type": "execute_result",
          "data": {
            "text/plain": [
              "16"
            ]
          },
          "metadata": {},
          "execution_count": 10
        }
      ]
    },
    {
      "cell_type": "code",
      "source": [
        "50 / 3 # Divisão"
      ],
      "metadata": {
        "colab": {
          "base_uri": "https://localhost:8080/"
        },
        "id": "8OTliHdAiTBt",
        "outputId": "5b57c267-b21b-4f3e-cbd5-5c1d975dfb44"
      },
      "execution_count": 11,
      "outputs": [
        {
          "output_type": "execute_result",
          "data": {
            "text/plain": [
              "16.666666666666668"
            ]
          },
          "metadata": {},
          "execution_count": 11
        }
      ]
    },
    {
      "cell_type": "code",
      "source": [
        "12 ** 2 # Potência"
      ],
      "metadata": {
        "colab": {
          "base_uri": "https://localhost:8080/"
        },
        "id": "fEsBOnl5iUk8",
        "outputId": "21f3f5cc-3dbf-4590-dd05-b561b0f8c3f6"
      },
      "execution_count": 12,
      "outputs": [
        {
          "output_type": "execute_result",
          "data": {
            "text/plain": [
              "144"
            ]
          },
          "metadata": {},
          "execution_count": 12
        }
      ]
    },
    {
      "cell_type": "markdown",
      "source": [
        "## Atribuição"
      ],
      "metadata": {
        "id": "GYxoTAMKil9C"
      }
    },
    {
      "cell_type": "code",
      "source": [
        "variavel = 1"
      ],
      "metadata": {
        "id": "yezrsCX-ioHe"
      },
      "execution_count": 15,
      "outputs": []
    },
    {
      "cell_type": "code",
      "source": [
        "ovos = ovos + 1\n",
        "ovos += 1\n",
        "ovos"
      ],
      "metadata": {
        "colab": {
          "base_uri": "https://localhost:8080/"
        },
        "id": "K4ywtkYKitHX",
        "outputId": "d712c9a9-b792-4d47-9734-6e0024f814a2"
      },
      "execution_count": 14,
      "outputs": [
        {
          "output_type": "execute_result",
          "data": {
            "text/plain": [
              "5"
            ]
          },
          "metadata": {},
          "execution_count": 14
        }
      ]
    },
    {
      "cell_type": "markdown",
      "source": [
        "## Comparação"
      ],
      "metadata": {
        "id": "OKEf42A2jHd4"
      }
    },
    {
      "cell_type": "code",
      "source": [
        "farinha > acucar"
      ],
      "metadata": {
        "id": "DB57lHLsjLjb",
        "outputId": "e176422e-4e9b-4385-c99f-574b048786f0",
        "colab": {
          "base_uri": "https://localhost:8080/"
        }
      },
      "execution_count": 16,
      "outputs": [
        {
          "output_type": "execute_result",
          "data": {
            "text/plain": [
              "True"
            ]
          },
          "metadata": {},
          "execution_count": 16
        }
      ]
    },
    {
      "cell_type": "code",
      "source": [
        "farinha <= acucar"
      ],
      "metadata": {
        "id": "eV5mvtQfjOzr",
        "outputId": "f10b9f3b-c829-4ac4-8537-3106f37dfc99",
        "colab": {
          "base_uri": "https://localhost:8080/"
        }
      },
      "execution_count": 17,
      "outputs": [
        {
          "output_type": "execute_result",
          "data": {
            "text/plain": [
              "False"
            ]
          },
          "metadata": {},
          "execution_count": 17
        }
      ]
    },
    {
      "cell_type": "code",
      "source": [
        "farinha <= acucar"
      ],
      "metadata": {
        "id": "Z-J_4XQ_jTby",
        "outputId": "c0a151d5-403a-4529-f68d-c57fb0416087",
        "colab": {
          "base_uri": "https://localhost:8080/"
        }
      },
      "execution_count": 18,
      "outputs": [
        {
          "output_type": "execute_result",
          "data": {
            "text/plain": [
              "False"
            ]
          },
          "metadata": {},
          "execution_count": 18
        }
      ]
    },
    {
      "cell_type": "code",
      "source": [
        "acucar == farinha"
      ],
      "metadata": {
        "id": "QtYjHRJqjV_y",
        "outputId": "12a76f5e-f5d8-447f-eca7-168f3aa0e6ef",
        "colab": {
          "base_uri": "https://localhost:8080/"
        }
      },
      "execution_count": 19,
      "outputs": [
        {
          "output_type": "execute_result",
          "data": {
            "text/plain": [
              "False"
            ]
          },
          "metadata": {},
          "execution_count": 19
        }
      ]
    },
    {
      "cell_type": "code",
      "source": [
        "farinha != acucar"
      ],
      "metadata": {
        "id": "qx1dFeoKjZt1",
        "outputId": "e289061f-43a7-4eae-e88a-83bd9d330696",
        "colab": {
          "base_uri": "https://localhost:8080/"
        }
      },
      "execution_count": 20,
      "outputs": [
        {
          "output_type": "execute_result",
          "data": {
            "text/plain": [
              "True"
            ]
          },
          "metadata": {},
          "execution_count": 20
        }
      ]
    },
    {
      "cell_type": "markdown",
      "source": [
        "## Lógicos"
      ],
      "metadata": {
        "id": "W1POR9jdjdmm"
      }
    },
    {
      "cell_type": "code",
      "source": [
        "farinha > 0 and agua > 0"
      ],
      "metadata": {
        "id": "4LWdQVXEjfFG",
        "outputId": "fcf21e91-9602-4f64-fc3e-175cf2e4f4a0",
        "colab": {
          "base_uri": "https://localhost:8080/"
        }
      },
      "execution_count": 21,
      "outputs": [
        {
          "output_type": "execute_result",
          "data": {
            "text/plain": [
              "True"
            ]
          },
          "metadata": {},
          "execution_count": 21
        }
      ]
    },
    {
      "cell_type": "code",
      "source": [
        "farinha > acucar or agua > 0"
      ],
      "metadata": {
        "id": "8iWCIeF_jiV4",
        "outputId": "dabdcae7-9236-4750-c3a1-8deb2cc63870",
        "colab": {
          "base_uri": "https://localhost:8080/"
        }
      },
      "execution_count": 22,
      "outputs": [
        {
          "output_type": "execute_result",
          "data": {
            "text/plain": [
              "True"
            ]
          },
          "metadata": {},
          "execution_count": 22
        }
      ]
    }
  ]
}