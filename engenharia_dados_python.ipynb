{
  "nbformat": 4,
  "nbformat_minor": 0,
  "metadata": {
    "colab": {
      "provenance": [],
      "authorship_tag": "ABX9TyMQF9eAwZt/7OrvMoEK04sR",
      "include_colab_link": true
    },
    "kernelspec": {
      "name": "python3",
      "display_name": "Python 3"
    },
    "language_info": {
      "name": "python"
    }
  },
  "cells": [
    {
      "cell_type": "markdown",
      "metadata": {
        "id": "view-in-github",
        "colab_type": "text"
      },
      "source": [
        "<a href=\"https://colab.research.google.com/github/AlefRP/min_projects/blob/main/engenharia_dados_python.ipynb\" target=\"_parent\"><img src=\"https://colab.research.google.com/assets/colab-badge.svg\" alt=\"Open In Colab\"/></a>"
      ]
    },
    {
      "cell_type": "code",
      "execution_count": 1,
      "metadata": {
        "colab": {
          "base_uri": "https://localhost:8080/",
          "height": 35
        },
        "id": "m-Zi_4ckyUcH",
        "outputId": "f4206504-d0d2-4cc7-df48-86865e39e6be"
      },
      "outputs": [
        {
          "output_type": "execute_result",
          "data": {
            "text/plain": [
              "\"'biscoitos' os melhores do mundo\""
            ],
            "application/vnd.google.colaboratory.intrinsic+json": {
              "type": "string"
            }
          },
          "metadata": {},
          "execution_count": 1
        }
      ],
      "source": [
        "# Vamos fazer receita de biscoito para o almoço de domingo\n",
        "receita = \"'biscoitos' os melhores do mundo\" # Essa é a receita do dia\n",
        "receita"
      ]
    },
    {
      "cell_type": "code",
      "source": [
        "geladeira = 'ingredientes'\n",
        "geladeira"
      ],
      "metadata": {
        "colab": {
          "base_uri": "https://localhost:8080/",
          "height": 35
        },
        "id": "a5kVU4RDyogE",
        "outputId": "475ff15a-fcb3-4a84-9663-316bcbfa3ff9"
      },
      "execution_count": null,
      "outputs": [
        {
          "output_type": "execute_result",
          "data": {
            "text/plain": [
              "'ingredientes'"
            ],
            "application/vnd.google.colaboratory.intrinsic+json": {
              "type": "string"
            }
          },
          "metadata": {},
          "execution_count": 4
        }
      ]
    },
    {
      "cell_type": "code",
      "source": [
        "geladeira = None\n",
        "geladeira"
      ],
      "metadata": {
        "id": "a5hUg6PIzy2T"
      },
      "execution_count": null,
      "outputs": []
    },
    {
      "cell_type": "markdown",
      "source": [
        "# Variáveis\n",
        "\n",
        "* Nomes de variáveis devem conter letras ou numeros e underline\n",
        "* Não pode começar com digitos\n",
        "* Evite caractéres acentuados e outros"
      ],
      "metadata": {
        "id": "5fbtbCTO0muu"
      }
    },
    {
      "cell_type": "code",
      "source": [
        "_geladeira = 0\n",
        "_geladeira"
      ],
      "metadata": {
        "colab": {
          "base_uri": "https://localhost:8080/"
        },
        "id": "7lg_yza004a3",
        "outputId": "0bb0921b-368f-4af4-e202-2c8e86569670"
      },
      "execution_count": null,
      "outputs": [
        {
          "output_type": "execute_result",
          "data": {
            "text/plain": [
              "0"
            ]
          },
          "metadata": {},
          "execution_count": 9
        }
      ]
    },
    {
      "cell_type": "code",
      "source": [
        "# Começar lista de ingredientes para fazer os biscoitos\n",
        "_geladeira = None\n",
        "\n",
        "# Farinha de Trigo\n",
        "ovos = 1\n",
        "recheio = None"
      ],
      "metadata": {
        "id": "JoHXnBRZcUoe"
      },
      "execution_count": null,
      "outputs": []
    }
  ]
}