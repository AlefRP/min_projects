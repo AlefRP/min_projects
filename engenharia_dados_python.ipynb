{
  "nbformat": 4,
  "nbformat_minor": 0,
  "metadata": {
    "colab": {
      "provenance": [],
      "authorship_tag": "ABX9TyPO2XQcAopxFOa4v4oiLBMv",
      "include_colab_link": true
    },
    "kernelspec": {
      "name": "python3",
      "display_name": "Python 3"
    },
    "language_info": {
      "name": "python"
    }
  },
  "cells": [
    {
      "cell_type": "markdown",
      "metadata": {
        "id": "view-in-github",
        "colab_type": "text"
      },
      "source": [
        "<a href=\"https://colab.research.google.com/github/AlefRP/min_projects/blob/main/engenharia_dados_python.ipynb\" target=\"_parent\"><img src=\"https://colab.research.google.com/assets/colab-badge.svg\" alt=\"Open In Colab\"/></a>"
      ]
    },
    {
      "cell_type": "code",
      "execution_count": 1,
      "metadata": {
        "colab": {
          "base_uri": "https://localhost:8080/",
          "height": 35
        },
        "id": "m-Zi_4ckyUcH",
        "outputId": "0dba461f-66b2-4aca-d4eb-87238f5c607f"
      },
      "outputs": [
        {
          "output_type": "execute_result",
          "data": {
            "text/plain": [
              "\"'biscoitos' os melhores do mundo\""
            ],
            "application/vnd.google.colaboratory.intrinsic+json": {
              "type": "string"
            }
          },
          "metadata": {},
          "execution_count": 1
        }
      ],
      "source": [
        "# Vamos fazer receita de biscoito para o almoço de domingo\n",
        "receita = \"'biscoitos' os melhores do mundo\" # Essa é a receita do dia\n",
        "receita"
      ]
    },
    {
      "cell_type": "code",
      "source": [
        "geladeira = 'ingredientes'\n",
        "geladeira"
      ],
      "metadata": {
        "colab": {
          "base_uri": "https://localhost:8080/",
          "height": 35
        },
        "id": "a5kVU4RDyogE",
        "outputId": "32d9e69e-f12a-4817-d912-08b086c7dbaf"
      },
      "execution_count": 2,
      "outputs": [
        {
          "output_type": "execute_result",
          "data": {
            "text/plain": [
              "'ingredientes'"
            ],
            "application/vnd.google.colaboratory.intrinsic+json": {
              "type": "string"
            }
          },
          "metadata": {},
          "execution_count": 2
        }
      ]
    },
    {
      "cell_type": "code",
      "source": [
        "geladeira = None\n",
        "geladeira"
      ],
      "metadata": {
        "id": "a5hUg6PIzy2T"
      },
      "execution_count": 3,
      "outputs": []
    },
    {
      "cell_type": "markdown",
      "source": [
        "# Variáveis\n",
        "\n",
        "* Nomes de variáveis devem conter letras ou numeros e underline\n",
        "* Não pode começar com digitos\n",
        "* Evite caractéres acentuados e outros"
      ],
      "metadata": {
        "id": "5fbtbCTO0muu"
      }
    },
    {
      "cell_type": "code",
      "source": [
        "_geladeira = 0\n",
        "_geladeira"
      ],
      "metadata": {
        "colab": {
          "base_uri": "https://localhost:8080/"
        },
        "id": "7lg_yza004a3",
        "outputId": "0d07920f-e000-415b-fa72-0f67c94113ed"
      },
      "execution_count": 4,
      "outputs": [
        {
          "output_type": "execute_result",
          "data": {
            "text/plain": [
              "0"
            ]
          },
          "metadata": {},
          "execution_count": 4
        }
      ]
    },
    {
      "cell_type": "code",
      "source": [
        "# Começar lista de ingredientes para fazer os biscoitos\n",
        "_geladeira = None\n",
        "\n",
        "# Farinha de Trigo\n",
        "ovos = 1\n",
        "recheio = False\n",
        "fermento = 1.5 * 3\n",
        "agua = 2\n",
        "acucar = 100.0\n",
        "manteiga = 100.0\n",
        "farinha = 300.0"
      ],
      "metadata": {
        "id": "JoHXnBRZcUoe"
      },
      "execution_count": 5,
      "outputs": []
    },
    {
      "cell_type": "markdown",
      "source": [
        "# Tipos de dados\n",
        "\n",
        "* texto -> string(str)\n",
        "* inteiro -> integer(int)\n",
        "* decimal -> float(float)\n",
        "* booleano -> bool\n",
        "* Nulo -> None"
      ],
      "metadata": {
        "id": "I3CaA2pVd9p1"
      }
    },
    {
      "cell_type": "code",
      "source": [
        "type(ovos)"
      ],
      "metadata": {
        "colab": {
          "base_uri": "https://localhost:8080/"
        },
        "id": "Ktuj8pacecY1",
        "outputId": "abd097ae-9458-4d02-84d6-9698cf4aaf6b"
      },
      "execution_count": 6,
      "outputs": [
        {
          "output_type": "execute_result",
          "data": {
            "text/plain": [
              "int"
            ]
          },
          "metadata": {},
          "execution_count": 6
        }
      ]
    },
    {
      "cell_type": "markdown",
      "source": [
        "# Operadores\n",
        "\n",
        "* Aritméticos\n",
        "* Atribuição\n",
        "* Lógicos\n",
        "* Identidade\n",
        "* Petercimento\n",
        "* ~Bitwise~"
      ],
      "metadata": {
        "id": "qiB0tC-5hNda"
      }
    },
    {
      "cell_type": "markdown",
      "source": [
        "## Aritmeticos"
      ],
      "metadata": {
        "id": "OvHs7PPJigF8"
      }
    },
    {
      "cell_type": "code",
      "source": [
        "2 + 3"
      ],
      "metadata": {
        "colab": {
          "base_uri": "https://localhost:8080/"
        },
        "id": "n4PCJavihQpW",
        "outputId": "e8782787-edcf-478f-b449-e91edc2b6f7d"
      },
      "execution_count": 7,
      "outputs": [
        {
          "output_type": "execute_result",
          "data": {
            "text/plain": [
              "5"
            ]
          },
          "metadata": {},
          "execution_count": 7
        }
      ]
    },
    {
      "cell_type": "code",
      "source": [
        "3 - 2"
      ],
      "metadata": {
        "colab": {
          "base_uri": "https://localhost:8080/"
        },
        "id": "P5_pkMImiFTR",
        "outputId": "40ab6b0b-19ef-40ad-866e-6ae91c16d31a"
      },
      "execution_count": 8,
      "outputs": [
        {
          "output_type": "execute_result",
          "data": {
            "text/plain": [
              "1"
            ]
          },
          "metadata": {},
          "execution_count": 8
        }
      ]
    },
    {
      "cell_type": "code",
      "source": [
        "acucar * 2"
      ],
      "metadata": {
        "colab": {
          "base_uri": "https://localhost:8080/"
        },
        "id": "B5IRm7v-iIaR",
        "outputId": "33c27e30-d41d-41bd-9eb2-02e88fd9105d"
      },
      "execution_count": 9,
      "outputs": [
        {
          "output_type": "execute_result",
          "data": {
            "text/plain": [
              "200.0"
            ]
          },
          "metadata": {},
          "execution_count": 9
        }
      ]
    },
    {
      "cell_type": "code",
      "source": [
        "50 // 3 # Divisão inteira"
      ],
      "metadata": {
        "colab": {
          "base_uri": "https://localhost:8080/"
        },
        "id": "788fQ1YxiNkj",
        "outputId": "100185a5-5e0d-46e9-aee8-abf37c396d78"
      },
      "execution_count": 10,
      "outputs": [
        {
          "output_type": "execute_result",
          "data": {
            "text/plain": [
              "16"
            ]
          },
          "metadata": {},
          "execution_count": 10
        }
      ]
    },
    {
      "cell_type": "code",
      "source": [
        "50 / 3 # Divisão"
      ],
      "metadata": {
        "colab": {
          "base_uri": "https://localhost:8080/"
        },
        "id": "8OTliHdAiTBt",
        "outputId": "d719b1f0-ea9a-49f5-9b09-492b7e59cf39"
      },
      "execution_count": 11,
      "outputs": [
        {
          "output_type": "execute_result",
          "data": {
            "text/plain": [
              "16.666666666666668"
            ]
          },
          "metadata": {},
          "execution_count": 11
        }
      ]
    },
    {
      "cell_type": "code",
      "source": [
        "12 ** 2 # Potência"
      ],
      "metadata": {
        "colab": {
          "base_uri": "https://localhost:8080/"
        },
        "id": "fEsBOnl5iUk8",
        "outputId": "02b13d8c-07e0-4e0f-a642-31efeabc6edd"
      },
      "execution_count": 12,
      "outputs": [
        {
          "output_type": "execute_result",
          "data": {
            "text/plain": [
              "144"
            ]
          },
          "metadata": {},
          "execution_count": 12
        }
      ]
    },
    {
      "cell_type": "markdown",
      "source": [
        "## Atribuição"
      ],
      "metadata": {
        "id": "GYxoTAMKil9C"
      }
    },
    {
      "cell_type": "code",
      "source": [
        "variavel = 1"
      ],
      "metadata": {
        "id": "yezrsCX-ioHe"
      },
      "execution_count": 13,
      "outputs": []
    },
    {
      "cell_type": "code",
      "source": [
        "ovos = ovos + 1\n",
        "ovos += 1\n",
        "ovos"
      ],
      "metadata": {
        "colab": {
          "base_uri": "https://localhost:8080/"
        },
        "id": "K4ywtkYKitHX",
        "outputId": "a45599ab-62a0-4ff9-fc8d-a5428e8ef184"
      },
      "execution_count": 14,
      "outputs": [
        {
          "output_type": "execute_result",
          "data": {
            "text/plain": [
              "3"
            ]
          },
          "metadata": {},
          "execution_count": 14
        }
      ]
    },
    {
      "cell_type": "markdown",
      "source": [
        "## Comparação"
      ],
      "metadata": {
        "id": "OKEf42A2jHd4"
      }
    },
    {
      "cell_type": "code",
      "source": [
        "farinha > acucar"
      ],
      "metadata": {
        "id": "DB57lHLsjLjb",
        "outputId": "2525bf05-740a-4c86-d97f-2e176941b3c0",
        "colab": {
          "base_uri": "https://localhost:8080/"
        }
      },
      "execution_count": 15,
      "outputs": [
        {
          "output_type": "execute_result",
          "data": {
            "text/plain": [
              "True"
            ]
          },
          "metadata": {},
          "execution_count": 15
        }
      ]
    },
    {
      "cell_type": "code",
      "source": [
        "farinha <= acucar"
      ],
      "metadata": {
        "id": "eV5mvtQfjOzr",
        "outputId": "8a3290cf-110d-426d-ccba-0095c6682ebe",
        "colab": {
          "base_uri": "https://localhost:8080/"
        }
      },
      "execution_count": 16,
      "outputs": [
        {
          "output_type": "execute_result",
          "data": {
            "text/plain": [
              "False"
            ]
          },
          "metadata": {},
          "execution_count": 16
        }
      ]
    },
    {
      "cell_type": "code",
      "source": [
        "farinha <= acucar"
      ],
      "metadata": {
        "id": "Z-J_4XQ_jTby",
        "outputId": "fc733bfd-323c-4c52-93e4-0f1f82cfdfa3",
        "colab": {
          "base_uri": "https://localhost:8080/"
        }
      },
      "execution_count": 17,
      "outputs": [
        {
          "output_type": "execute_result",
          "data": {
            "text/plain": [
              "False"
            ]
          },
          "metadata": {},
          "execution_count": 17
        }
      ]
    },
    {
      "cell_type": "code",
      "source": [
        "acucar == farinha"
      ],
      "metadata": {
        "id": "QtYjHRJqjV_y",
        "outputId": "1bd2da49-e571-4247-f24f-a6d5011cd77a",
        "colab": {
          "base_uri": "https://localhost:8080/"
        }
      },
      "execution_count": 18,
      "outputs": [
        {
          "output_type": "execute_result",
          "data": {
            "text/plain": [
              "False"
            ]
          },
          "metadata": {},
          "execution_count": 18
        }
      ]
    },
    {
      "cell_type": "code",
      "source": [
        "farinha != acucar"
      ],
      "metadata": {
        "id": "qx1dFeoKjZt1",
        "outputId": "3f1a3087-8d65-4f8d-f8a8-adbb4d2c5e36",
        "colab": {
          "base_uri": "https://localhost:8080/"
        }
      },
      "execution_count": 19,
      "outputs": [
        {
          "output_type": "execute_result",
          "data": {
            "text/plain": [
              "True"
            ]
          },
          "metadata": {},
          "execution_count": 19
        }
      ]
    },
    {
      "cell_type": "markdown",
      "source": [
        "## Lógicos"
      ],
      "metadata": {
        "id": "W1POR9jdjdmm"
      }
    },
    {
      "cell_type": "code",
      "source": [
        "farinha > 0 and agua > 0"
      ],
      "metadata": {
        "id": "4LWdQVXEjfFG",
        "outputId": "14df85fc-4e83-49aa-d9a0-ad3a082ce413",
        "colab": {
          "base_uri": "https://localhost:8080/"
        }
      },
      "execution_count": 20,
      "outputs": [
        {
          "output_type": "execute_result",
          "data": {
            "text/plain": [
              "True"
            ]
          },
          "metadata": {},
          "execution_count": 20
        }
      ]
    },
    {
      "cell_type": "code",
      "source": [
        "farinha > acucar or agua > 0"
      ],
      "metadata": {
        "id": "8iWCIeF_jiV4",
        "outputId": "6e7165fa-bd0b-40ca-8958-4d716185d4d4",
        "colab": {
          "base_uri": "https://localhost:8080/"
        }
      },
      "execution_count": 21,
      "outputs": [
        {
          "output_type": "execute_result",
          "data": {
            "text/plain": [
              "True"
            ]
          },
          "metadata": {},
          "execution_count": 21
        }
      ]
    },
    {
      "cell_type": "markdown",
      "source": [
        "# Estruturas de Dados"
      ],
      "metadata": {
        "id": "OoQe2xFQvPu6"
      }
    },
    {
      "cell_type": "code",
      "source": [
        "receita = {\n",
        "    'receita_1': None,\n",
        "    'receita_2': None,\n",
        "    'biscoitos \"os melhores do mundo\"': {\n",
        "        'ingredientes': ['ovos', 'fermento', 'acucar', 'manteiga', 'farinha'],\n",
        "        'passos':\n",
        "        (\n",
        "            '1. Bata o ovo e açucar na batedeira com a manteiga',\n",
        "            '2. Acrecente o restante dos ingredientes e utilize a batedeira por 2 minutos',\n",
        "            '3. Leve ao forno por 20 minutos'\n",
        "        )\n",
        "    }\n",
        "}"
      ],
      "metadata": {
        "id": "gcRXnjn2vTtb"
      },
      "execution_count": 24,
      "outputs": []
    },
    {
      "cell_type": "code",
      "source": [
        "receita['biscoitos \"os melhores do mundo\"']['ingredientes']"
      ],
      "metadata": {
        "colab": {
          "base_uri": "https://localhost:8080/"
        },
        "id": "Zix9Gq8ewwdH",
        "outputId": "3b289485-123a-48b4-fe93-58427808e324"
      },
      "execution_count": 25,
      "outputs": [
        {
          "output_type": "execute_result",
          "data": {
            "text/plain": [
              "['ovos', 'fermento', 'acucar', 'manteiga', 'farinha']"
            ]
          },
          "metadata": {},
          "execution_count": 25
        }
      ]
    },
    {
      "cell_type": "code",
      "source": [
        "padaria = ['ovos', 'fermento', 'leite', 'queijo', 'acucar', 'manteiga', 'farinha', 'presunto']"
      ],
      "metadata": {
        "id": "Yt2Hx_KWw6M1"
      },
      "execution_count": 26,
      "outputs": []
    },
    {
      "cell_type": "code",
      "source": [
        "'ovos' in padaria # Operador de pertencimento"
      ],
      "metadata": {
        "colab": {
          "base_uri": "https://localhost:8080/"
        },
        "id": "0acD_eYfxFop",
        "outputId": "ed3f90a1-c135-47e3-8a02-b2b67f21f440"
      },
      "execution_count": 27,
      "outputs": [
        {
          "output_type": "execute_result",
          "data": {
            "text/plain": [
              "True"
            ]
          },
          "metadata": {},
          "execution_count": 27
        }
      ]
    },
    {
      "cell_type": "code",
      "source": [
        "'queijo' in receita['biscoitos \"os melhores do mundo\"']['ingredientes']"
      ],
      "metadata": {
        "id": "hVjvl_irxhdv",
        "outputId": "c97a0b76-80ad-4db9-ebf2-816f6373cdaa",
        "colab": {
          "base_uri": "https://localhost:8080/"
        }
      },
      "execution_count": 28,
      "outputs": [
        {
          "output_type": "execute_result",
          "data": {
            "text/plain": [
              "False"
            ]
          },
          "metadata": {},
          "execution_count": 28
        }
      ]
    },
    {
      "cell_type": "code",
      "source": [
        "ingredientes = receita['biscoitos \"os melhores do mundo\"']['ingredientes']\n",
        "geladeira = ingredientes"
      ],
      "metadata": {
        "id": "gRD6t3Kbx20d"
      },
      "execution_count": 32,
      "outputs": []
    },
    {
      "cell_type": "code",
      "source": [
        "geladeira.append('agua')\n",
        "geladeira"
      ],
      "metadata": {
        "id": "g7_vLv9Ux9Li",
        "outputId": "9d4156d5-edd9-49d0-dc3f-a0ea981d89b8",
        "colab": {
          "base_uri": "https://localhost:8080/"
        }
      },
      "execution_count": 33,
      "outputs": [
        {
          "output_type": "execute_result",
          "data": {
            "text/plain": [
              "['ovos', 'fermento', 'acucar', 'manteiga', 'farinha', 'agua', 'agua', 'agua']"
            ]
          },
          "metadata": {},
          "execution_count": 33
        }
      ]
    },
    {
      "cell_type": "code",
      "source": [
        "ingredientes\n",
        "geladeira = ingredientes.copy()\n",
        "geladeira.remove('agua')\n",
        "geladeira"
      ],
      "metadata": {
        "id": "eS-ohQB-yE8w",
        "outputId": "e93f3a65-ff43-4eae-9a2c-67e788922eee",
        "colab": {
          "base_uri": "https://localhost:8080/"
        }
      },
      "execution_count": 36,
      "outputs": [
        {
          "output_type": "execute_result",
          "data": {
            "text/plain": [
              "['ovos', 'fermento', 'acucar', 'manteiga', 'farinha', 'agua', 'agua']"
            ]
          },
          "metadata": {},
          "execution_count": 36
        }
      ]
    },
    {
      "cell_type": "code",
      "source": [
        "ingredientes"
      ],
      "metadata": {
        "id": "mAeinZi7yfu3",
        "outputId": "7532aa12-1b3a-457b-f958-4864bdb4c0eb",
        "colab": {
          "base_uri": "https://localhost:8080/"
        }
      },
      "execution_count": 37,
      "outputs": [
        {
          "output_type": "execute_result",
          "data": {
            "text/plain": [
              "['ovos', 'fermento', 'acucar', 'manteiga', 'farinha', 'agua', 'agua', 'agua']"
            ]
          },
          "metadata": {},
          "execution_count": 37
        }
      ]
    }
  ]
}