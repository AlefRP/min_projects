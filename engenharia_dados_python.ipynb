{
  "nbformat": 4,
  "nbformat_minor": 0,
  "metadata": {
    "colab": {
      "provenance": [],
      "authorship_tag": "ABX9TyMEUl1cK4S+MtYH06WEPMoY",
      "include_colab_link": true
    },
    "kernelspec": {
      "name": "python3",
      "display_name": "Python 3"
    },
    "language_info": {
      "name": "python"
    }
  },
  "cells": [
    {
      "cell_type": "markdown",
      "metadata": {
        "id": "view-in-github",
        "colab_type": "text"
      },
      "source": [
        "<a href=\"https://colab.research.google.com/github/AlefRP/min_projects/blob/main/engenharia_dados_python.ipynb\" target=\"_parent\"><img src=\"https://colab.research.google.com/assets/colab-badge.svg\" alt=\"Open In Colab\"/></a>"
      ]
    },
    {
      "cell_type": "code",
      "execution_count": 1,
      "metadata": {
        "colab": {
          "base_uri": "https://localhost:8080/",
          "height": 35
        },
        "id": "m-Zi_4ckyUcH",
        "outputId": "f4206504-d0d2-4cc7-df48-86865e39e6be"
      },
      "outputs": [
        {
          "output_type": "execute_result",
          "data": {
            "text/plain": [
              "\"'biscoitos' os melhores do mundo\""
            ],
            "application/vnd.google.colaboratory.intrinsic+json": {
              "type": "string"
            }
          },
          "metadata": {},
          "execution_count": 1
        }
      ],
      "source": [
        "# Vamos fazer receita de biscoito para o almoço de domingo\n",
        "receita = \"'biscoitos' os melhores do mundo\" # Essa é a receita do dia\n",
        "receita"
      ]
    },
    {
      "cell_type": "code",
      "source": [
        "geladeira = 'ingredientes'\n",
        "geladeira"
      ],
      "metadata": {
        "colab": {
          "base_uri": "https://localhost:8080/",
          "height": 35
        },
        "id": "a5kVU4RDyogE",
        "outputId": "475ff15a-fcb3-4a84-9663-316bcbfa3ff9"
      },
      "execution_count": null,
      "outputs": [
        {
          "output_type": "execute_result",
          "data": {
            "text/plain": [
              "'ingredientes'"
            ],
            "application/vnd.google.colaboratory.intrinsic+json": {
              "type": "string"
            }
          },
          "metadata": {},
          "execution_count": 4
        }
      ]
    },
    {
      "cell_type": "code",
      "source": [
        "geladeira = None\n",
        "geladeira"
      ],
      "metadata": {
        "id": "a5hUg6PIzy2T"
      },
      "execution_count": null,
      "outputs": []
    },
    {
      "cell_type": "markdown",
      "source": [
        "# Variáveis\n",
        "\n",
        "* Nomes de variáveis devem conter letras ou numeros e underline\n",
        "* Não pode começar com digitos\n",
        "* Evite caractéres acentuados e outros"
      ],
      "metadata": {
        "id": "5fbtbCTO0muu"
      }
    },
    {
      "cell_type": "code",
      "source": [
        "_geladeira = 0\n",
        "_geladeira"
      ],
      "metadata": {
        "colab": {
          "base_uri": "https://localhost:8080/"
        },
        "id": "7lg_yza004a3",
        "outputId": "0bb0921b-368f-4af4-e202-2c8e86569670"
      },
      "execution_count": null,
      "outputs": [
        {
          "output_type": "execute_result",
          "data": {
            "text/plain": [
              "0"
            ]
          },
          "metadata": {},
          "execution_count": 9
        }
      ]
    },
    {
      "cell_type": "code",
      "source": [
        "# Começar lista de ingredientes para fazer os biscoitos\n",
        "_geladeira = None\n",
        "\n",
        "# Farinha de Trigo\n",
        "ovos = 1\n",
        "recheio = False\n",
        "fermento = 1.5 * 3\n",
        "agua = 2\n",
        "acucar = 100.0\n",
        "manteiga = 100.0\n",
        "farinha = 300.0"
      ],
      "metadata": {
        "id": "JoHXnBRZcUoe"
      },
      "execution_count": 3,
      "outputs": []
    },
    {
      "cell_type": "markdown",
      "source": [
        "# Tipos de dados\n",
        "\n",
        "* texto -> string(str)\n",
        "* inteiro -> integer(int)\n",
        "* decimal -> float(float)\n",
        "* booleano -> bool\n",
        "* Nulo -> None"
      ],
      "metadata": {
        "id": "I3CaA2pVd9p1"
      }
    },
    {
      "cell_type": "code",
      "source": [
        "type(ovos)"
      ],
      "metadata": {
        "id": "Ktuj8pacecY1",
        "outputId": "b9c043df-6ba9-4a4b-9b4d-8a8333f23131",
        "colab": {
          "base_uri": "https://localhost:8080/"
        }
      },
      "execution_count": 5,
      "outputs": [
        {
          "output_type": "execute_result",
          "data": {
            "text/plain": [
              "int"
            ]
          },
          "metadata": {},
          "execution_count": 5
        }
      ]
    },
    {
      "cell_type": "markdown",
      "source": [
        "# Operadores\n",
        "\n",
        "* Aritméticos\n",
        "* Atribuição\n",
        "* Lógicos\n",
        "* Identidade\n",
        "* Petercimento\n",
        "* ~Bitwise~"
      ],
      "metadata": {
        "id": "qiB0tC-5hNda"
      }
    },
    {
      "cell_type": "markdown",
      "source": [
        "## Aritmeticos"
      ],
      "metadata": {
        "id": "OvHs7PPJigF8"
      }
    },
    {
      "cell_type": "code",
      "source": [
        "2 + 3"
      ],
      "metadata": {
        "id": "n4PCJavihQpW",
        "outputId": "c39f6bac-114a-4645-c49c-4632f5b49d18",
        "colab": {
          "base_uri": "https://localhost:8080/"
        }
      },
      "execution_count": 7,
      "outputs": [
        {
          "output_type": "execute_result",
          "data": {
            "text/plain": [
              "5"
            ]
          },
          "metadata": {},
          "execution_count": 7
        }
      ]
    },
    {
      "cell_type": "code",
      "source": [
        "3 - 2"
      ],
      "metadata": {
        "id": "P5_pkMImiFTR",
        "outputId": "df3c9973-8969-4a9f-9477-36839ca8307b",
        "colab": {
          "base_uri": "https://localhost:8080/"
        }
      },
      "execution_count": 8,
      "outputs": [
        {
          "output_type": "execute_result",
          "data": {
            "text/plain": [
              "1"
            ]
          },
          "metadata": {},
          "execution_count": 8
        }
      ]
    },
    {
      "cell_type": "code",
      "source": [
        "acucar * 2"
      ],
      "metadata": {
        "id": "B5IRm7v-iIaR",
        "outputId": "af025777-8f98-400b-ad60-609fca3a6cf4",
        "colab": {
          "base_uri": "https://localhost:8080/"
        }
      },
      "execution_count": 9,
      "outputs": [
        {
          "output_type": "execute_result",
          "data": {
            "text/plain": [
              "200.0"
            ]
          },
          "metadata": {},
          "execution_count": 9
        }
      ]
    },
    {
      "cell_type": "code",
      "source": [
        "50 // 3 # Divisão inteira"
      ],
      "metadata": {
        "id": "788fQ1YxiNkj",
        "outputId": "08eab377-3493-4914-83b7-11244d57d824",
        "colab": {
          "base_uri": "https://localhost:8080/"
        }
      },
      "execution_count": 10,
      "outputs": [
        {
          "output_type": "execute_result",
          "data": {
            "text/plain": [
              "16"
            ]
          },
          "metadata": {},
          "execution_count": 10
        }
      ]
    },
    {
      "cell_type": "code",
      "source": [
        "50 / 3 # Divisão"
      ],
      "metadata": {
        "id": "8OTliHdAiTBt",
        "outputId": "5b57c267-b21b-4f3e-cbd5-5c1d975dfb44",
        "colab": {
          "base_uri": "https://localhost:8080/"
        }
      },
      "execution_count": 11,
      "outputs": [
        {
          "output_type": "execute_result",
          "data": {
            "text/plain": [
              "16.666666666666668"
            ]
          },
          "metadata": {},
          "execution_count": 11
        }
      ]
    },
    {
      "cell_type": "code",
      "source": [
        "12 ** 2 # Potência"
      ],
      "metadata": {
        "id": "fEsBOnl5iUk8",
        "outputId": "21f3f5cc-3dbf-4590-dd05-b561b0f8c3f6",
        "colab": {
          "base_uri": "https://localhost:8080/"
        }
      },
      "execution_count": 12,
      "outputs": [
        {
          "output_type": "execute_result",
          "data": {
            "text/plain": [
              "144"
            ]
          },
          "metadata": {},
          "execution_count": 12
        }
      ]
    },
    {
      "cell_type": "markdown",
      "source": [
        "## Atribuição"
      ],
      "metadata": {
        "id": "GYxoTAMKil9C"
      }
    },
    {
      "cell_type": "code",
      "source": [
        "variavel = 1"
      ],
      "metadata": {
        "id": "yezrsCX-ioHe"
      },
      "execution_count": 15,
      "outputs": []
    },
    {
      "cell_type": "code",
      "source": [
        "ovos = ovos + 1\n",
        "ovos += 1\n",
        "ovos"
      ],
      "metadata": {
        "id": "K4ywtkYKitHX",
        "outputId": "d712c9a9-b792-4d47-9734-6e0024f814a2",
        "colab": {
          "base_uri": "https://localhost:8080/"
        }
      },
      "execution_count": 14,
      "outputs": [
        {
          "output_type": "execute_result",
          "data": {
            "text/plain": [
              "5"
            ]
          },
          "metadata": {},
          "execution_count": 14
        }
      ]
    }
  ]
}